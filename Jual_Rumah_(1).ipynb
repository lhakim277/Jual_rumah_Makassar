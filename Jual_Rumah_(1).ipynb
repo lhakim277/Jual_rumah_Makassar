{
  "nbformat": 4,
  "nbformat_minor": 0,
  "metadata": {
    "kernelspec": {
      "display_name": "Python 3",
      "language": "python",
      "name": "python3"
    },
    "language_info": {
      "codemirror_mode": {
        "name": "ipython",
        "version": 3
      },
      "file_extension": ".py",
      "mimetype": "text/x-python",
      "name": "python",
      "nbconvert_exporter": "python",
      "pygments_lexer": "ipython3",
      "version": "3.8.5"
    },
    "colab": {
      "name": "Jual Rumah (1).ipynb",
      "provenance": []
    }
  },
  "cells": [
    {
      "cell_type": "markdown",
      "metadata": {
        "id": "EbCUfM5-jHu6"
      },
      "source": [
        "**Meng-import Package yang diperlukan**"
      ]
    },
    {
      "cell_type": "code",
      "metadata": {
        "id": "PJq5Xpgud2D4"
      },
      "source": [
        "import pandas as pd\n",
        "import numpy as np\n",
        "import seaborn as sns\n",
        "import matplotlib.pyplot as plt\n",
        "\n",
        "plt.style.use('bmh');sns.set()\n"
      ],
      "execution_count": 24,
      "outputs": []
    },
    {
      "cell_type": "markdown",
      "metadata": {
        "id": "H53aW9kniES3"
      },
      "source": [
        "**Meng-input dataset CSV berupa sekumpulan data iklan penjualan rumah di Kota Makassar yang diperoleh di website (rumah123.com) tahun 2021**\n"
      ]
    },
    {
      "cell_type": "code",
      "metadata": {
        "colab": {
          "resources": {
            "http://localhost:8080/nbextensions/google.colab/files.js": {
              "data": "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",
              "ok": true,
              "headers": [
                [
                  "content-type",
                  "application/javascript"
                ]
              ],
              "status": 200,
              "status_text": ""
            }
          },
          "base_uri": "https://localhost:8080/",
          "height": 72
        },
        "id": "TEGTcM-yd2EF",
        "outputId": "d3b87fe8-9e9f-4ed6-d9ab-b533e0b77ffd"
      },
      "source": [
        "from google.colab import files\n",
        "rumah = files.upload()"
      ],
      "execution_count": 25,
      "outputs": [
        {
          "output_type": "display_data",
          "data": {
            "text/html": [
              "\n",
              "     <input type=\"file\" id=\"files-be7a9360-0026-42f5-bd10-ddb21b82ed02\" name=\"files[]\" multiple disabled\n",
              "        style=\"border:none\" />\n",
              "     <output id=\"result-be7a9360-0026-42f5-bd10-ddb21b82ed02\">\n",
              "      Upload widget is only available when the cell has been executed in the\n",
              "      current browser session. Please rerun this cell to enable.\n",
              "      </output>\n",
              "      <script src=\"/nbextensions/google.colab/files.js\"></script> "
            ],
            "text/plain": [
              "<IPython.core.display.HTML object>"
            ]
          },
          "metadata": {
            "tags": []
          }
        },
        {
          "output_type": "stream",
          "text": [
            "Saving Tugas 01 Data Mining - Kelompok 11.csv to Tugas 01 Data Mining - Kelompok 11.csv\n"
          ],
          "name": "stdout"
        }
      ]
    },
    {
      "cell_type": "code",
      "metadata": {
        "id": "v0UmLELquwtG"
      },
      "source": [
        "rumah = pd.read_csv('Tugas 01 Data Mining - Kelompok 11.csv')"
      ],
      "execution_count": 28,
      "outputs": []
    },
    {
      "cell_type": "markdown",
      "metadata": {
        "id": "epBcYQUTjanq"
      },
      "source": [
        "Mengetahui ukuran dan tipe data"
      ]
    },
    {
      "cell_type": "code",
      "metadata": {
        "colab": {
          "base_uri": "https://localhost:8080/"
        },
        "id": "Iw6oTVPQd2EH",
        "outputId": "0ff17b02-f3b4-4095-db1c-96659ed5758b"
      },
      "source": [
        "rumah.info()"
      ],
      "execution_count": 29,
      "outputs": [
        {
          "output_type": "stream",
          "text": [
            "<class 'pandas.core.frame.DataFrame'>\n",
            "RangeIndex: 100 entries, 0 to 99\n",
            "Data columns (total 17 columns):\n",
            " #   Column      Non-Null Count  Dtype  \n",
            "---  ------      --------------  -----  \n",
            " 0   no          100 non-null    int64  \n",
            " 1   Tgl_Iklan   100 non-null    object \n",
            " 2   url         100 non-null    object \n",
            " 3   harga_juta  100 non-null    float64\n",
            " 4   Kota        100 non-null    object \n",
            " 5   LT          100 non-null    int64  \n",
            " 6   LB          100 non-null    int64  \n",
            " 7   KT          100 non-null    int64  \n",
            " 8   KM          100 non-null    int64  \n",
            " 9   KTP         100 non-null    int64  \n",
            " 10  KMP         100 non-null    int64  \n",
            " 11  carport     100 non-null    int64  \n",
            " 12  garasi      100 non-null    int64  \n",
            " 13  listrik     100 non-null    int64  \n",
            " 14  surat       100 non-null    object \n",
            " 15  judul       100 non-null    object \n",
            " 16  deskripsi   100 non-null    object \n",
            "dtypes: float64(1), int64(10), object(6)\n",
            "memory usage: 13.4+ KB\n"
          ],
          "name": "stdout"
        }
      ]
    },
    {
      "cell_type": "markdown",
      "metadata": {
        "id": "HkOZHaNyjmRZ"
      },
      "source": [
        "Mengetahui jumlah baris dan kolom pada dataset"
      ]
    },
    {
      "cell_type": "code",
      "metadata": {
        "colab": {
          "base_uri": "https://localhost:8080/"
        },
        "id": "Px_ZQhVld2EI",
        "outputId": "4b30c69c-ff4b-4a79-e874-e23d975056a7"
      },
      "source": [
        "print(type(rumah))\n",
        "\n",
        "N, P = rumah.shape\n",
        "\"baris = \", N,\" kolom = \",P"
      ],
      "execution_count": 30,
      "outputs": [
        {
          "output_type": "stream",
          "text": [
            "<class 'pandas.core.frame.DataFrame'>\n"
          ],
          "name": "stdout"
        },
        {
          "output_type": "execute_result",
          "data": {
            "text/plain": [
              "('baris = ', 100, ' kolom = ', 17)"
            ]
          },
          "metadata": {
            "tags": []
          },
          "execution_count": 30
        }
      ]
    },
    {
      "cell_type": "markdown",
      "metadata": {
        "id": "Qv2txLEyj0MP"
      },
      "source": [
        "**PREPOCESSING DATA**"
      ]
    },
    {
      "cell_type": "markdown",
      "metadata": {
        "id": "lCQTC519lLrP"
      },
      "source": [
        "Menghapus kolom 'no' karena data dalam kolom 'no' sangat beragam sehingga tidak diperlukan dalam analisis"
      ]
    },
    {
      "cell_type": "code",
      "metadata": {
        "id": "452MoI7xd2EJ"
      },
      "source": [
        "rumah.drop('no', axis=1, inplace=True)"
      ],
      "execution_count": null,
      "outputs": []
    },
    {
      "cell_type": "markdown",
      "metadata": {
        "id": "R_A4i0p8lv3_"
      },
      "source": [
        "Menampilkan 10 data secara random"
      ]
    },
    {
      "cell_type": "code",
      "metadata": {
        "colab": {
          "base_uri": "https://localhost:8080/",
          "height": 991
        },
        "id": "PkUd-anyd2EK",
        "outputId": "1f3f6591-89c5-43e0-f0b2-60cd6235a081"
      },
      "source": [
        "rumah.sample(10)"
      ],
      "execution_count": 36,
      "outputs": [
        {
          "output_type": "execute_result",
          "data": {
            "text/html": [
              "<div>\n",
              "<style scoped>\n",
              "    .dataframe tbody tr th:only-of-type {\n",
              "        vertical-align: middle;\n",
              "    }\n",
              "\n",
              "    .dataframe tbody tr th {\n",
              "        vertical-align: top;\n",
              "    }\n",
              "\n",
              "    .dataframe thead th {\n",
              "        text-align: right;\n",
              "    }\n",
              "</style>\n",
              "<table border=\"1\" class=\"dataframe\">\n",
              "  <thead>\n",
              "    <tr style=\"text-align: right;\">\n",
              "      <th></th>\n",
              "      <th>Tgl_Iklan</th>\n",
              "      <th>url</th>\n",
              "      <th>harga_juta</th>\n",
              "      <th>Kota</th>\n",
              "      <th>LT</th>\n",
              "      <th>LB</th>\n",
              "      <th>KT</th>\n",
              "      <th>KM</th>\n",
              "      <th>KTP</th>\n",
              "      <th>KMP</th>\n",
              "      <th>carport</th>\n",
              "      <th>garasi</th>\n",
              "      <th>listrik</th>\n",
              "      <th>surat</th>\n",
              "      <th>judul</th>\n",
              "      <th>deskripsi</th>\n",
              "    </tr>\n",
              "  </thead>\n",
              "  <tbody>\n",
              "    <tr>\n",
              "      <th>16</th>\n",
              "      <td>25/03/21</td>\n",
              "      <td>https://www.rumah123.com/properti/makassar/hos...</td>\n",
              "      <td>1200.0</td>\n",
              "      <td>Makassar</td>\n",
              "      <td>105</td>\n",
              "      <td>210</td>\n",
              "      <td>4</td>\n",
              "      <td>2</td>\n",
              "      <td>0</td>\n",
              "      <td>0</td>\n",
              "      <td>0</td>\n",
              "      <td>0</td>\n",
              "      <td>1300</td>\n",
              "      <td>SHM</td>\n",
              "      <td>rumah sudut, siap huni, cocok usaha, cafe, 2 l...</td>\n",
              "      <td>Rumah Dijual Makassar rumah 2 lantai kamar 4 k...</td>\n",
              "    </tr>\n",
              "    <tr>\n",
              "      <th>21</th>\n",
              "      <td>24/03/21</td>\n",
              "      <td>https://www.rumah123.com/properti/makassar/hos...</td>\n",
              "      <td>5500.0</td>\n",
              "      <td>Makassar</td>\n",
              "      <td>495</td>\n",
              "      <td>200</td>\n",
              "      <td>4</td>\n",
              "      <td>3</td>\n",
              "      <td>1</td>\n",
              "      <td>1</td>\n",
              "      <td>0</td>\n",
              "      <td>0</td>\n",
              "      <td>2200</td>\n",
              "      <td>SHM</td>\n",
              "      <td>Rumah Tengah Kota Untuk Tempat Tinggal</td>\n",
              "      <td>Rumah Dijualsewa Makassar, k.tidur 4+1,k. mand...</td>\n",
              "    </tr>\n",
              "    <tr>\n",
              "      <th>9</th>\n",
              "      <td>01/04/21</td>\n",
              "      <td>https://www.rumah123.com/properti/makassar/hos...</td>\n",
              "      <td>1950.0</td>\n",
              "      <td>Makassar</td>\n",
              "      <td>112</td>\n",
              "      <td>160</td>\n",
              "      <td>4</td>\n",
              "      <td>3</td>\n",
              "      <td>0</td>\n",
              "      <td>0</td>\n",
              "      <td>1</td>\n",
              "      <td>0</td>\n",
              "      <td>0</td>\n",
              "      <td>none</td>\n",
              "      <td>Rumah di Makassar Ready Summarecon Makassar 2 ...</td>\n",
              "      <td>Rumah di Makassar Ready Summarecon Makassar 2 ...</td>\n",
              "    </tr>\n",
              "    <tr>\n",
              "      <th>10</th>\n",
              "      <td>01/04/21</td>\n",
              "      <td>https://www.rumah123.com/properti/makassar/hos...</td>\n",
              "      <td>1500.0</td>\n",
              "      <td>Makassar</td>\n",
              "      <td>135</td>\n",
              "      <td>108</td>\n",
              "      <td>3</td>\n",
              "      <td>2</td>\n",
              "      <td>0</td>\n",
              "      <td>0</td>\n",
              "      <td>1</td>\n",
              "      <td>1</td>\n",
              "      <td>1300</td>\n",
              "      <td>SHM</td>\n",
              "      <td>Rumah Lili</td>\n",
              "      <td>Rumah Dijual Makassar Perumahan Lili, Dekat Ma...</td>\n",
              "    </tr>\n",
              "    <tr>\n",
              "      <th>11</th>\n",
              "      <td>30/03/21</td>\n",
              "      <td>https://www.rumah123.com/properti/makassar/hos...</td>\n",
              "      <td>350.0</td>\n",
              "      <td>Makassar</td>\n",
              "      <td>72</td>\n",
              "      <td>36</td>\n",
              "      <td>2</td>\n",
              "      <td>1</td>\n",
              "      <td>0</td>\n",
              "      <td>0</td>\n",
              "      <td>1</td>\n",
              "      <td>0</td>\n",
              "      <td>1300</td>\n",
              "      <td>SHM</td>\n",
              "      <td>RUMAH MURAH DI DAYA PROMO DP 10%</td>\n",
              "      <td>Rumah cantik lokasi daya biring kanaya\\r\\nType...</td>\n",
              "    </tr>\n",
              "    <tr>\n",
              "      <th>73</th>\n",
              "      <td>14/03/2021</td>\n",
              "      <td>https://www.rumah123.com/properti/makassar/hos...</td>\n",
              "      <td>858.0</td>\n",
              "      <td>Makassar</td>\n",
              "      <td>105</td>\n",
              "      <td>100</td>\n",
              "      <td>3</td>\n",
              "      <td>2</td>\n",
              "      <td>0</td>\n",
              "      <td>0</td>\n",
              "      <td>1</td>\n",
              "      <td>0</td>\n",
              "      <td>2200</td>\n",
              "      <td>SHM</td>\n",
              "      <td>Runah 2 Lantai Dekat Bandara dan Poros Perinti...</td>\n",
              "      <td>Tipe Primerose</td>\n",
              "    </tr>\n",
              "    <tr>\n",
              "      <th>37</th>\n",
              "      <td>19/03/2021</td>\n",
              "      <td>https://www.rumah123.com/properti/makassar/hos...</td>\n",
              "      <td>1800.0</td>\n",
              "      <td>Makassar</td>\n",
              "      <td>135</td>\n",
              "      <td>160</td>\n",
              "      <td>4</td>\n",
              "      <td>4</td>\n",
              "      <td>0</td>\n",
              "      <td>0</td>\n",
              "      <td>1</td>\n",
              "      <td>0</td>\n",
              "      <td>1300</td>\n",
              "      <td>SHM</td>\n",
              "      <td>Rumah Minimalis</td>\n",
              "      <td>Rumah Dijual Makassar Rumah 2 lantai</td>\n",
              "    </tr>\n",
              "    <tr>\n",
              "      <th>85</th>\n",
              "      <td>10/03/21</td>\n",
              "      <td>https://www.rumah123.com/properti/makassar/hos...</td>\n",
              "      <td>2000.0</td>\n",
              "      <td>Makassar</td>\n",
              "      <td>91</td>\n",
              "      <td>60</td>\n",
              "      <td>3</td>\n",
              "      <td>2</td>\n",
              "      <td>0</td>\n",
              "      <td>0</td>\n",
              "      <td>1</td>\n",
              "      <td>0</td>\n",
              "      <td>1300</td>\n",
              "      <td>SHM</td>\n",
              "      <td>Rumah siap Huni dkt Jl. Perintis kemerdekaan</td>\n",
              "      <td>Rumah Dijual Makassar</td>\n",
              "    </tr>\n",
              "    <tr>\n",
              "      <th>83</th>\n",
              "      <td>11/03/21</td>\n",
              "      <td>https://www.rumah123.com/properti/makassar/hos...</td>\n",
              "      <td>1650.0</td>\n",
              "      <td>Makassar</td>\n",
              "      <td>153</td>\n",
              "      <td>200</td>\n",
              "      <td>5</td>\n",
              "      <td>4</td>\n",
              "      <td>0</td>\n",
              "      <td>0</td>\n",
              "      <td>0</td>\n",
              "      <td>0</td>\n",
              "      <td>2200</td>\n",
              "      <td>SHM</td>\n",
              "      <td>Rumah Mewah 2 Lantai lokasi pusat kota Makassa...</td>\n",
              "      <td>Hunian mewah lokasi strategis di pengayoman be...</td>\n",
              "    </tr>\n",
              "    <tr>\n",
              "      <th>89</th>\n",
              "      <td>09/03/21</td>\n",
              "      <td>https://www.rumah123.com/properti/makassar/hos...</td>\n",
              "      <td>650.0</td>\n",
              "      <td>Makassar</td>\n",
              "      <td>90</td>\n",
              "      <td>56</td>\n",
              "      <td>2</td>\n",
              "      <td>1</td>\n",
              "      <td>0</td>\n",
              "      <td>0</td>\n",
              "      <td>1</td>\n",
              "      <td>0</td>\n",
              "      <td>1300</td>\n",
              "      <td>SHM</td>\n",
              "      <td>Rumah murah minimalis siap huni di tengah kota...</td>\n",
              "      <td>Rumah Siap Huni Dalam Kota &amp; Bebas Banjir\\r\\n\\...</td>\n",
              "    </tr>\n",
              "  </tbody>\n",
              "</table>\n",
              "</div>"
            ],
            "text/plain": [
              "     Tgl_Iklan  ...                                          deskripsi\n",
              "16    25/03/21  ...  Rumah Dijual Makassar rumah 2 lantai kamar 4 k...\n",
              "21    24/03/21  ...  Rumah Dijualsewa Makassar, k.tidur 4+1,k. mand...\n",
              "9     01/04/21  ...  Rumah di Makassar Ready Summarecon Makassar 2 ...\n",
              "10    01/04/21  ...  Rumah Dijual Makassar Perumahan Lili, Dekat Ma...\n",
              "11    30/03/21  ...  Rumah cantik lokasi daya biring kanaya\\r\\nType...\n",
              "73  14/03/2021  ...                                     Tipe Primerose\n",
              "37  19/03/2021  ...               Rumah Dijual Makassar Rumah 2 lantai\n",
              "85    10/03/21  ...                              Rumah Dijual Makassar\n",
              "83    11/03/21  ...  Hunian mewah lokasi strategis di pengayoman be...\n",
              "89    09/03/21  ...  Rumah Siap Huni Dalam Kota & Bebas Banjir\\r\\n\\...\n",
              "\n",
              "[10 rows x 16 columns]"
            ]
          },
          "metadata": {
            "tags": []
          },
          "execution_count": 36
        }
      ]
    },
    {
      "cell_type": "markdown",
      "metadata": {
        "id": "DWmyRRAAw6S5"
      },
      "source": [
        "Cek apakah ada duplikat atau tidak?\n",
        "Bedasarkan hasil diperoleh 0 artinya tidak ditemukan duplikat dalam data"
      ]
    },
    {
      "cell_type": "code",
      "metadata": {
        "id": "YFkA5YsBd2EK",
        "outputId": "74eae818-03c1-4960-a682-b6efb65fa818"
      },
      "source": [
        "print(rumah.shape)\n",
        "rumah.duplicated().sum()"
      ],
      "execution_count": null,
      "outputs": [
        {
          "output_type": "stream",
          "text": [
            "(100, 16)\n"
          ],
          "name": "stdout"
        },
        {
          "output_type": "execute_result",
          "data": {
            "text/plain": [
              "0"
            ]
          },
          "metadata": {
            "tags": []
          },
          "execution_count": 8
        }
      ]
    },
    {
      "cell_type": "markdown",
      "metadata": {
        "id": "znyVpBEd6Nyd"
      },
      "source": [
        "Memilih tipe data float dan integer dari dataset"
      ]
    },
    {
      "cell_type": "code",
      "metadata": {
        "id": "XLnPKIMed2EL",
        "outputId": "438a6c21-f44d-435c-c625-7cb12de53746"
      },
      "source": [
        "jr_num = rumah.select_dtypes(include = ['float', 'int64'])\n",
        "jr_num"
      ],
      "execution_count": null,
      "outputs": [
        {
          "output_type": "execute_result",
          "data": {
            "text/html": [
              "<div>\n",
              "<style scoped>\n",
              "    .dataframe tbody tr th:only-of-type {\n",
              "        vertical-align: middle;\n",
              "    }\n",
              "\n",
              "    .dataframe tbody tr th {\n",
              "        vertical-align: top;\n",
              "    }\n",
              "\n",
              "    .dataframe thead th {\n",
              "        text-align: right;\n",
              "    }\n",
              "</style>\n",
              "<table border=\"1\" class=\"dataframe\">\n",
              "  <thead>\n",
              "    <tr style=\"text-align: right;\">\n",
              "      <th></th>\n",
              "      <th>harga_juta</th>\n",
              "      <th>LT</th>\n",
              "      <th>LB</th>\n",
              "      <th>KT</th>\n",
              "      <th>KM</th>\n",
              "      <th>KTP</th>\n",
              "      <th>KMP</th>\n",
              "      <th>carport</th>\n",
              "      <th>garasi</th>\n",
              "      <th>listrik</th>\n",
              "    </tr>\n",
              "  </thead>\n",
              "  <tbody>\n",
              "    <tr>\n",
              "      <th>0</th>\n",
              "      <td>1000.0</td>\n",
              "      <td>128</td>\n",
              "      <td>49</td>\n",
              "      <td>2</td>\n",
              "      <td>2</td>\n",
              "      <td>0</td>\n",
              "      <td>0</td>\n",
              "      <td>0</td>\n",
              "      <td>0</td>\n",
              "      <td>2200</td>\n",
              "    </tr>\n",
              "    <tr>\n",
              "      <th>1</th>\n",
              "      <td>1550.0</td>\n",
              "      <td>160</td>\n",
              "      <td>256</td>\n",
              "      <td>2</td>\n",
              "      <td>1</td>\n",
              "      <td>1</td>\n",
              "      <td>1</td>\n",
              "      <td>1</td>\n",
              "      <td>0</td>\n",
              "      <td>2200</td>\n",
              "    </tr>\n",
              "    <tr>\n",
              "      <th>2</th>\n",
              "      <td>80000.0</td>\n",
              "      <td>1400</td>\n",
              "      <td>555</td>\n",
              "      <td>5</td>\n",
              "      <td>4</td>\n",
              "      <td>2</td>\n",
              "      <td>1</td>\n",
              "      <td>1</td>\n",
              "      <td>0</td>\n",
              "      <td>16500</td>\n",
              "    </tr>\n",
              "    <tr>\n",
              "      <th>3</th>\n",
              "      <td>3700.0</td>\n",
              "      <td>175</td>\n",
              "      <td>350</td>\n",
              "      <td>3</td>\n",
              "      <td>2</td>\n",
              "      <td>1</td>\n",
              "      <td>0</td>\n",
              "      <td>1</td>\n",
              "      <td>1</td>\n",
              "      <td>3500</td>\n",
              "    </tr>\n",
              "    <tr>\n",
              "      <th>4</th>\n",
              "      <td>1200.0</td>\n",
              "      <td>105</td>\n",
              "      <td>70</td>\n",
              "      <td>3</td>\n",
              "      <td>1</td>\n",
              "      <td>0</td>\n",
              "      <td>0</td>\n",
              "      <td>0</td>\n",
              "      <td>0</td>\n",
              "      <td>2200</td>\n",
              "    </tr>\n",
              "    <tr>\n",
              "      <th>...</th>\n",
              "      <td>...</td>\n",
              "      <td>...</td>\n",
              "      <td>...</td>\n",
              "      <td>...</td>\n",
              "      <td>...</td>\n",
              "      <td>...</td>\n",
              "      <td>...</td>\n",
              "      <td>...</td>\n",
              "      <td>...</td>\n",
              "      <td>...</td>\n",
              "    </tr>\n",
              "    <tr>\n",
              "      <th>95</th>\n",
              "      <td>1000.0</td>\n",
              "      <td>126</td>\n",
              "      <td>112</td>\n",
              "      <td>3</td>\n",
              "      <td>2</td>\n",
              "      <td>0</td>\n",
              "      <td>0</td>\n",
              "      <td>0</td>\n",
              "      <td>0</td>\n",
              "      <td>2200</td>\n",
              "    </tr>\n",
              "    <tr>\n",
              "      <th>96</th>\n",
              "      <td>535.0</td>\n",
              "      <td>72</td>\n",
              "      <td>70</td>\n",
              "      <td>3</td>\n",
              "      <td>2</td>\n",
              "      <td>0</td>\n",
              "      <td>0</td>\n",
              "      <td>0</td>\n",
              "      <td>0</td>\n",
              "      <td>0</td>\n",
              "    </tr>\n",
              "    <tr>\n",
              "      <th>97</th>\n",
              "      <td>850.0</td>\n",
              "      <td>95</td>\n",
              "      <td>80</td>\n",
              "      <td>3</td>\n",
              "      <td>2</td>\n",
              "      <td>0</td>\n",
              "      <td>0</td>\n",
              "      <td>1</td>\n",
              "      <td>0</td>\n",
              "      <td>2200</td>\n",
              "    </tr>\n",
              "    <tr>\n",
              "      <th>98</th>\n",
              "      <td>900.0</td>\n",
              "      <td>120</td>\n",
              "      <td>80</td>\n",
              "      <td>2</td>\n",
              "      <td>2</td>\n",
              "      <td>0</td>\n",
              "      <td>0</td>\n",
              "      <td>1</td>\n",
              "      <td>0</td>\n",
              "      <td>2200</td>\n",
              "    </tr>\n",
              "    <tr>\n",
              "      <th>99</th>\n",
              "      <td>455.0</td>\n",
              "      <td>72</td>\n",
              "      <td>45</td>\n",
              "      <td>2</td>\n",
              "      <td>1</td>\n",
              "      <td>0</td>\n",
              "      <td>0</td>\n",
              "      <td>0</td>\n",
              "      <td>1</td>\n",
              "      <td>1300</td>\n",
              "    </tr>\n",
              "  </tbody>\n",
              "</table>\n",
              "<p>100 rows × 10 columns</p>\n",
              "</div>"
            ],
            "text/plain": [
              "    harga_juta    LT   LB  KT  KM  KTP  KMP  carport  garasi  listrik\n",
              "0       1000.0   128   49   2   2    0    0        0       0     2200\n",
              "1       1550.0   160  256   2   1    1    1        1       0     2200\n",
              "2      80000.0  1400  555   5   4    2    1        1       0    16500\n",
              "3       3700.0   175  350   3   2    1    0        1       1     3500\n",
              "4       1200.0   105   70   3   1    0    0        0       0     2200\n",
              "..         ...   ...  ...  ..  ..  ...  ...      ...     ...      ...\n",
              "95      1000.0   126  112   3   2    0    0        0       0     2200\n",
              "96       535.0    72   70   3   2    0    0        0       0        0\n",
              "97       850.0    95   80   3   2    0    0        1       0     2200\n",
              "98       900.0   120   80   2   2    0    0        1       0     2200\n",
              "99       455.0    72   45   2   1    0    0        0       1     1300\n",
              "\n",
              "[100 rows x 10 columns]"
            ]
          },
          "metadata": {
            "tags": []
          },
          "execution_count": 9
        }
      ]
    },
    {
      "cell_type": "markdown",
      "metadata": {
        "id": "DkfyltIO6ZXE"
      },
      "source": [
        "Memilih tipe data string dari dataset"
      ]
    },
    {
      "cell_type": "code",
      "metadata": {
        "id": "5xxauONod2EL",
        "outputId": "44a1612b-82d7-4707-c858-d5a092d3dd8c"
      },
      "source": [
        "jr_obj = rumah.select_dtypes(include = ['object'])\n",
        "jr_obj"
      ],
      "execution_count": null,
      "outputs": [
        {
          "output_type": "execute_result",
          "data": {
            "text/html": [
              "<div>\n",
              "<style scoped>\n",
              "    .dataframe tbody tr th:only-of-type {\n",
              "        vertical-align: middle;\n",
              "    }\n",
              "\n",
              "    .dataframe tbody tr th {\n",
              "        vertical-align: top;\n",
              "    }\n",
              "\n",
              "    .dataframe thead th {\n",
              "        text-align: right;\n",
              "    }\n",
              "</style>\n",
              "<table border=\"1\" class=\"dataframe\">\n",
              "  <thead>\n",
              "    <tr style=\"text-align: right;\">\n",
              "      <th></th>\n",
              "      <th>Tgl_Iklan</th>\n",
              "      <th>url</th>\n",
              "      <th>Kota</th>\n",
              "      <th>surat</th>\n",
              "      <th>judul</th>\n",
              "      <th>deskripsi</th>\n",
              "    </tr>\n",
              "  </thead>\n",
              "  <tbody>\n",
              "    <tr>\n",
              "      <th>0</th>\n",
              "      <td>05/04/21</td>\n",
              "      <td>https://www.rumah123.com/properti/makassar/hos...</td>\n",
              "      <td>Makassar</td>\n",
              "      <td>SHM</td>\n",
              "      <td>Rumah Murah Tengah Kota Dekat Pettarani</td>\n",
              "      <td>dijual rumah makassar harga murah dalam kota. ...</td>\n",
              "    </tr>\n",
              "    <tr>\n",
              "      <th>1</th>\n",
              "      <td>05/04/21</td>\n",
              "      <td>https://www.rumah123.com/properti/makassar/hos...</td>\n",
              "      <td>Makassar</td>\n",
              "      <td>HGB</td>\n",
              "      <td>Rumah Asri Citraland Red Burgundy</td>\n",
              "      <td>Rumah Dijualsewa Makassar Dalam Cluster</td>\n",
              "    </tr>\n",
              "    <tr>\n",
              "      <th>2</th>\n",
              "      <td>05/04/21</td>\n",
              "      <td>https://www.rumah123.com/properti/makassar/hos...</td>\n",
              "      <td>Makassar</td>\n",
              "      <td>SHM</td>\n",
              "      <td>Rumah Lokasi Strategis Pinggir Jalan Raya dan ...</td>\n",
              "      <td>Rumah 2 lantai dengan Spesifikasi, sebagai ber...</td>\n",
              "    </tr>\n",
              "    <tr>\n",
              "      <th>3</th>\n",
              "      <td>05/04/21</td>\n",
              "      <td>https://www.rumah123.com/properti/makassar/hos...</td>\n",
              "      <td>Makassar</td>\n",
              "      <td>SHM</td>\n",
              "      <td>Rumah Cantik</td>\n",
              "      <td>Rumah Dijual Makassar Rumah Tengah Kota, 100 m...</td>\n",
              "    </tr>\n",
              "    <tr>\n",
              "      <th>4</th>\n",
              "      <td>05/04/21</td>\n",
              "      <td>https://www.rumah123.com/properti/makassar/hos...</td>\n",
              "      <td>Makassar</td>\n",
              "      <td>SHM</td>\n",
              "      <td>Rumah Cantik Asri Tanjung Bunga Makassar</td>\n",
              "      <td>One Gate System Aman dan Nyaman Lingkungan Bag...</td>\n",
              "    </tr>\n",
              "    <tr>\n",
              "      <th>...</th>\n",
              "      <td>...</td>\n",
              "      <td>...</td>\n",
              "      <td>...</td>\n",
              "      <td>...</td>\n",
              "      <td>...</td>\n",
              "      <td>...</td>\n",
              "    </tr>\n",
              "    <tr>\n",
              "      <th>95</th>\n",
              "      <td>08/03/2021</td>\n",
              "      <td>https://www.rumah123.com/properti/makassar/hos...</td>\n",
              "      <td>Makassar</td>\n",
              "      <td>SHM</td>\n",
              "      <td>Rumah Amaryllis</td>\n",
              "      <td>Rumah Dijual Makassar Dengan Perabot\\r\\nDekat ...</td>\n",
              "    </tr>\n",
              "    <tr>\n",
              "      <th>96</th>\n",
              "      <td>08/03/2021</td>\n",
              "      <td>https://www.rumah123.com/properti/makassar/hos...</td>\n",
              "      <td>Makassar</td>\n",
              "      <td>SHM</td>\n",
              "      <td>Rumah Minimalis 3 kamar belakang Polda perinti...</td>\n",
              "      <td>Rumah Minimalis 3 kamar belakang Polda perinti...</td>\n",
              "    </tr>\n",
              "    <tr>\n",
              "      <th>97</th>\n",
              "      <td>08/03/2021</td>\n",
              "      <td>https://www.rumah123.com/properti/makassar/hos...</td>\n",
              "      <td>Makassar</td>\n",
              "      <td>SHM</td>\n",
              "      <td>Rumah mewah minimalis TYPE 80 dekat dari Mall ...</td>\n",
              "      <td>Rumah minimalis Harga Murah Citra Hertasning M...</td>\n",
              "    </tr>\n",
              "    <tr>\n",
              "      <th>98</th>\n",
              "      <td>08/03/2021</td>\n",
              "      <td>https://www.rumah123.com/properti/makassar/hos...</td>\n",
              "      <td>Makassar</td>\n",
              "      <td>SHM</td>\n",
              "      <td>Rumah Asri Clove</td>\n",
              "      <td>Rumah Dijualsewa Makassar Siap Huni</td>\n",
              "    </tr>\n",
              "    <tr>\n",
              "      <th>99</th>\n",
              "      <td>05/03/2021</td>\n",
              "      <td>https://www.rumah123.com/properti/makassar/hos...</td>\n",
              "      <td>Makassar</td>\n",
              "      <td>SHM</td>\n",
              "      <td>Hunian exclusive ditengah kota Makassar</td>\n",
              "      <td>Hunian exclusive ditengah kota Makassar\\r\\nClu...</td>\n",
              "    </tr>\n",
              "  </tbody>\n",
              "</table>\n",
              "<p>100 rows × 6 columns</p>\n",
              "</div>"
            ],
            "text/plain": [
              "     Tgl_Iklan                                                url      Kota  \\\n",
              "0     05/04/21  https://www.rumah123.com/properti/makassar/hos...  Makassar   \n",
              "1     05/04/21  https://www.rumah123.com/properti/makassar/hos...  Makassar   \n",
              "2     05/04/21  https://www.rumah123.com/properti/makassar/hos...  Makassar   \n",
              "3     05/04/21  https://www.rumah123.com/properti/makassar/hos...  Makassar   \n",
              "4     05/04/21  https://www.rumah123.com/properti/makassar/hos...  Makassar   \n",
              "..         ...                                                ...       ...   \n",
              "95  08/03/2021  https://www.rumah123.com/properti/makassar/hos...  Makassar   \n",
              "96  08/03/2021  https://www.rumah123.com/properti/makassar/hos...  Makassar   \n",
              "97  08/03/2021  https://www.rumah123.com/properti/makassar/hos...  Makassar   \n",
              "98  08/03/2021  https://www.rumah123.com/properti/makassar/hos...  Makassar   \n",
              "99  05/03/2021  https://www.rumah123.com/properti/makassar/hos...  Makassar   \n",
              "\n",
              "   surat                                              judul  \\\n",
              "0    SHM            Rumah Murah Tengah Kota Dekat Pettarani   \n",
              "1    HGB                  Rumah Asri Citraland Red Burgundy   \n",
              "2    SHM  Rumah Lokasi Strategis Pinggir Jalan Raya dan ...   \n",
              "3    SHM                                       Rumah Cantik   \n",
              "4    SHM           Rumah Cantik Asri Tanjung Bunga Makassar   \n",
              "..   ...                                                ...   \n",
              "95   SHM                                    Rumah Amaryllis   \n",
              "96   SHM  Rumah Minimalis 3 kamar belakang Polda perinti...   \n",
              "97   SHM  Rumah mewah minimalis TYPE 80 dekat dari Mall ...   \n",
              "98   SHM                                   Rumah Asri Clove   \n",
              "99   SHM            Hunian exclusive ditengah kota Makassar   \n",
              "\n",
              "                                            deskripsi  \n",
              "0   dijual rumah makassar harga murah dalam kota. ...  \n",
              "1             Rumah Dijualsewa Makassar Dalam Cluster  \n",
              "2   Rumah 2 lantai dengan Spesifikasi, sebagai ber...  \n",
              "3   Rumah Dijual Makassar Rumah Tengah Kota, 100 m...  \n",
              "4   One Gate System Aman dan Nyaman Lingkungan Bag...  \n",
              "..                                                ...  \n",
              "95  Rumah Dijual Makassar Dengan Perabot\\r\\nDekat ...  \n",
              "96  Rumah Minimalis 3 kamar belakang Polda perinti...  \n",
              "97  Rumah minimalis Harga Murah Citra Hertasning M...  \n",
              "98                Rumah Dijualsewa Makassar Siap Huni  \n",
              "99  Hunian exclusive ditengah kota Makassar\\r\\nClu...  \n",
              "\n",
              "[100 rows x 6 columns]"
            ]
          },
          "metadata": {
            "tags": []
          },
          "execution_count": 10
        }
      ]
    },
    {
      "cell_type": "markdown",
      "metadata": {
        "id": "v3ImyEK5xf_H"
      },
      "source": [
        "Mengubah tipe data surat dari string ke kategori"
      ]
    },
    {
      "cell_type": "code",
      "metadata": {
        "colab": {
          "base_uri": "https://localhost:8080/",
          "height": 204
        },
        "id": "sdtajeskd2EM",
        "outputId": "01807e0a-9827-4361-e9fc-de29ed4f8fa2"
      },
      "source": [
        "df = pd.get_dummies(rumah['surat'],prefix='sertifikat')\n",
        "df.head()"
      ],
      "execution_count": 37,
      "outputs": [
        {
          "output_type": "execute_result",
          "data": {
            "text/html": [
              "<div>\n",
              "<style scoped>\n",
              "    .dataframe tbody tr th:only-of-type {\n",
              "        vertical-align: middle;\n",
              "    }\n",
              "\n",
              "    .dataframe tbody tr th {\n",
              "        vertical-align: top;\n",
              "    }\n",
              "\n",
              "    .dataframe thead th {\n",
              "        text-align: right;\n",
              "    }\n",
              "</style>\n",
              "<table border=\"1\" class=\"dataframe\">\n",
              "  <thead>\n",
              "    <tr style=\"text-align: right;\">\n",
              "      <th></th>\n",
              "      <th>sertifikat_HGB</th>\n",
              "      <th>sertifikat_SHM</th>\n",
              "      <th>sertifikat_none</th>\n",
              "    </tr>\n",
              "  </thead>\n",
              "  <tbody>\n",
              "    <tr>\n",
              "      <th>0</th>\n",
              "      <td>0</td>\n",
              "      <td>1</td>\n",
              "      <td>0</td>\n",
              "    </tr>\n",
              "    <tr>\n",
              "      <th>1</th>\n",
              "      <td>1</td>\n",
              "      <td>0</td>\n",
              "      <td>0</td>\n",
              "    </tr>\n",
              "    <tr>\n",
              "      <th>2</th>\n",
              "      <td>0</td>\n",
              "      <td>1</td>\n",
              "      <td>0</td>\n",
              "    </tr>\n",
              "    <tr>\n",
              "      <th>3</th>\n",
              "      <td>0</td>\n",
              "      <td>1</td>\n",
              "      <td>0</td>\n",
              "    </tr>\n",
              "    <tr>\n",
              "      <th>4</th>\n",
              "      <td>0</td>\n",
              "      <td>1</td>\n",
              "      <td>0</td>\n",
              "    </tr>\n",
              "  </tbody>\n",
              "</table>\n",
              "</div>"
            ],
            "text/plain": [
              "   sertifikat_HGB  sertifikat_SHM  sertifikat_none\n",
              "0               0               1                0\n",
              "1               1               0                0\n",
              "2               0               1                0\n",
              "3               0               1                0\n",
              "4               0               1                0"
            ]
          },
          "metadata": {
            "tags": []
          },
          "execution_count": 37
        }
      ]
    },
    {
      "cell_type": "code",
      "metadata": {
        "id": "EUi5YrH0d2EN",
        "outputId": "37c3acb2-2d85-49d7-e20b-8198a567b051"
      },
      "source": [
        "import seaborn as sns\n",
        "\n",
        "p=sns.catplot(x=\"carport\", y=\"harga_juta\", data=rumah)\n",
        "\n",
        "#terdapat outlier pada data "
      ],
      "execution_count": null,
      "outputs": [
        {
          "output_type": "display_data",
          "data": {
            "image/png": "[encoded data removed]",
            "text/plain": [
              "<Figure size 360x360 with 1 Axes>"
            ]
          },
          "metadata": {
            "tags": []
          }
        }
      ]
    },
    {
      "cell_type": "markdown",
      "metadata": {
        "id": "5JCIPzsDx3Iu"
      },
      "source": [
        "Melihat apakah terdapat outlier dalam data"
      ]
    },
    {
      "cell_type": "code",
      "metadata": {
        "id": "sYbXizTVd2EN",
        "outputId": "6a34b258-69d4-4736-9d15-d2e840b6f2e7"
      },
      "source": [
        "p=sns.distplot(rumah['harga_juta'], kde=True, rug=True)"
      ],
      "execution_count": null,
      "outputs": [
        {
          "output_type": "stream",
          "text": [
            "C:\\Users\\Lukman Hakim\\anaconda3\\lib\\site-packages\\seaborn\\distributions.py:2551: FutureWarning: `distplot` is a deprecated function and will be removed in a future version. Please adapt your code to use either `displot` (a figure-level function with similar flexibility) or `histplot` (an axes-level function for histograms).\n",
            "  warnings.warn(msg, FutureWarning)\n",
            "C:\\Users\\Lukman Hakim\\anaconda3\\lib\\site-packages\\seaborn\\distributions.py:2055: FutureWarning: The `axis` variable is no longer used and will be removed. Instead, assign variables directly to `x` or `y`.\n",
            "  warnings.warn(msg, FutureWarning)\n"
          ],
          "name": "stderr"
        },
        {
          "output_type": "display_data",
          "data": {
            "image/png": "[encoded data removed]",
            "text/plain": [
              "<Figure size 432x288 with 1 Axes>"
            ]
          },
          "metadata": {
            "tags": []
          }
        }
      ]
    },
    {
      "cell_type": "markdown",
      "metadata": {
        "id": "M80wsnHsyAr0"
      },
      "source": [
        "Menghapus outlier"
      ]
    },
    {
      "cell_type": "code",
      "metadata": {
        "colab": {
          "base_uri": "https://localhost:8080/"
        },
        "id": "qIv2kXa7d2EO",
        "outputId": "2e3c0ffc-f633-4492-e322-ce0a45f46039"
      },
      "source": [
        "df=np.abs(rumah.harga_juta-rumah.harga_juta.mean())<=(2*rumah.harga_juta.std())\n",
        "print(df.shape)\n",
        "df.head()"
      ],
      "execution_count": 41,
      "outputs": [
        {
          "output_type": "stream",
          "text": [
            "(100,)\n"
          ],
          "name": "stdout"
        },
        {
          "output_type": "execute_result",
          "data": {
            "text/plain": [
              "0     True\n",
              "1     True\n",
              "2    False\n",
              "3     True\n",
              "4     True\n",
              "Name: harga_juta, dtype: bool"
            ]
          },
          "metadata": {
            "tags": []
          },
          "execution_count": 41
        }
      ]
    },
    {
      "cell_type": "markdown",
      "metadata": {
        "id": "6a062HPk7PcF"
      },
      "source": [
        "**Data tanpa Outlier**"
      ]
    },
    {
      "cell_type": "code",
      "metadata": {
        "colab": {
          "base_uri": "https://localhost:8080/"
        },
        "id": "c3NWYUL_d2EP",
        "outputId": "1aea927d-ab8e-4b72-8fe5-a6e37b84b7c4"
      },
      "source": [
        "rumah2 = rumah[df]\n",
        "print(rumah2.shape, rumah.shape)"
      ],
      "execution_count": 42,
      "outputs": [
        {
          "output_type": "stream",
          "text": [
            "(99, 16) (100, 16)\n"
          ],
          "name": "stdout"
        }
      ]
    },
    {
      "cell_type": "code",
      "metadata": {
        "colab": {
          "base_uri": "https://localhost:8080/",
          "height": 373
        },
        "id": "BxaSgn32d2EP",
        "outputId": "f1dce33a-9762-4c35-c530-f14ea8c435a8"
      },
      "source": [
        "p=sns.distplot(rumah2['harga_juta'], kde=True, rug=True)"
      ],
      "execution_count": 43,
      "outputs": [
        {
          "output_type": "stream",
          "text": [
            "/usr/local/lib/python3.7/dist-packages/seaborn/distributions.py:2557: FutureWarning: `distplot` is a deprecated function and will be removed in a future version. Please adapt your code to use either `displot` (a figure-level function with similar flexibility) or `histplot` (an axes-level function for histograms).\n",
            "  warnings.warn(msg, FutureWarning)\n",
            "/usr/local/lib/python3.7/dist-packages/seaborn/distributions.py:2056: FutureWarning: The `axis` variable is no longer used and will be removed. Instead, assign variables directly to `x` or `y`.\n",
            "  warnings.warn(msg, FutureWarning)\n"
          ],
          "name": "stderr"
        },
        {
          "output_type": "display_data",
          "data": {
            "image/png": "[encoded data removed]",
            "text/plain": [
              "<Figure size 432x288 with 1 Axes>"
            ]
          },
          "metadata": {
            "tags": []
          }
        }
      ]
    },
    {
      "cell_type": "code",
      "metadata": {
        "colab": {
          "base_uri": "https://localhost:8080/",
          "height": 382
        },
        "id": "Pg8AUQ5Qd2EQ",
        "outputId": "0c7ad1ca-03c7-4358-9129-9864511ba6d2"
      },
      "source": [
        "p=sns.catplot(x=\"surat\", y=\"harga_juta\", data=rumah2)"
      ],
      "execution_count": 44,
      "outputs": [
        {
          "output_type": "display_data",
          "data": {
            "image/png": "[encoded data removed]",
            "text/plain": [
              "<Figure size 360x360 with 1 Axes>"
            ]
          },
          "metadata": {
            "tags": []
          }
        }
      ]
    },
    {
      "cell_type": "markdown",
      "metadata": {
        "id": "wcG0eEI37sGi"
      },
      "source": [
        "**Missing Value**"
      ]
    },
    {
      "cell_type": "code",
      "metadata": {
        "colab": {
          "base_uri": "https://localhost:8080/"
        },
        "id": "mccHULFPd2EQ",
        "outputId": "0a554c2e-2da9-4dd9-fa48-757451701ce7"
      },
      "source": [
        "print(rumah2.isnull().sum())"
      ],
      "execution_count": 60,
      "outputs": [
        {
          "output_type": "stream",
          "text": [
            "Tgl_Iklan     0\n",
            "url           0\n",
            "harga_juta    0\n",
            "Kota          0\n",
            "LT            0\n",
            "LB            0\n",
            "KT            0\n",
            "KM            0\n",
            "KTP           0\n",
            "KMP           0\n",
            "carport       0\n",
            "garasi        0\n",
            "listrik       0\n",
            "surat         0\n",
            "judul         0\n",
            "deskripsi     0\n",
            "dtype: int64\n"
          ],
          "name": "stdout"
        }
      ]
    },
    {
      "cell_type": "markdown",
      "metadata": {
        "id": "QN-GtNHO665n"
      },
      "source": [
        "Berdasarkan hasil yang diperoleh 0 artinya data bebas dari missing value"
      ]
    },
    {
      "cell_type": "markdown",
      "metadata": {
        "id": "FxU30DsM7kA-"
      },
      "source": [
        "**Statistika Deskriptif**"
      ]
    },
    {
      "cell_type": "code",
      "metadata": {
        "scrolled": true,
        "colab": {
          "base_uri": "https://localhost:8080/",
          "height": 297
        },
        "id": "amjrY9Tjd2ER",
        "outputId": "2a85d971-ccaa-4028-e8e3-67274f2fdfe2"
      },
      "source": [
        "rumah2.describe()"
      ],
      "execution_count": 61,
      "outputs": [
        {
          "output_type": "execute_result",
          "data": {
            "text/html": [
              "<div>\n",
              "<style scoped>\n",
              "    .dataframe tbody tr th:only-of-type {\n",
              "        vertical-align: middle;\n",
              "    }\n",
              "\n",
              "    .dataframe tbody tr th {\n",
              "        vertical-align: top;\n",
              "    }\n",
              "\n",
              "    .dataframe thead th {\n",
              "        text-align: right;\n",
              "    }\n",
              "</style>\n",
              "<table border=\"1\" class=\"dataframe\">\n",
              "  <thead>\n",
              "    <tr style=\"text-align: right;\">\n",
              "      <th></th>\n",
              "      <th>harga_juta</th>\n",
              "      <th>LT</th>\n",
              "      <th>LB</th>\n",
              "      <th>KT</th>\n",
              "      <th>KM</th>\n",
              "      <th>KTP</th>\n",
              "      <th>KMP</th>\n",
              "      <th>carport</th>\n",
              "      <th>garasi</th>\n",
              "      <th>listrik</th>\n",
              "    </tr>\n",
              "  </thead>\n",
              "  <tbody>\n",
              "    <tr>\n",
              "      <th>count</th>\n",
              "      <td>99.000000</td>\n",
              "      <td>99.000000</td>\n",
              "      <td>99.000000</td>\n",
              "      <td>99.000000</td>\n",
              "      <td>99.000000</td>\n",
              "      <td>99.000000</td>\n",
              "      <td>99.000000</td>\n",
              "      <td>99.000000</td>\n",
              "      <td>99.000000</td>\n",
              "      <td>99.000000</td>\n",
              "    </tr>\n",
              "    <tr>\n",
              "      <th>mean</th>\n",
              "      <td>2471.852525</td>\n",
              "      <td>161.474747</td>\n",
              "      <td>159.484848</td>\n",
              "      <td>3.363636</td>\n",
              "      <td>2.606061</td>\n",
              "      <td>0.303030</td>\n",
              "      <td>0.262626</td>\n",
              "      <td>0.545455</td>\n",
              "      <td>0.191919</td>\n",
              "      <td>2337.373737</td>\n",
              "    </tr>\n",
              "    <tr>\n",
              "      <th>std</th>\n",
              "      <td>2272.814407</td>\n",
              "      <td>105.439251</td>\n",
              "      <td>114.944651</td>\n",
              "      <td>1.207583</td>\n",
              "      <td>1.141233</td>\n",
              "      <td>0.579489</td>\n",
              "      <td>0.506808</td>\n",
              "      <td>0.520454</td>\n",
              "      <td>0.420805</td>\n",
              "      <td>1263.101613</td>\n",
              "    </tr>\n",
              "    <tr>\n",
              "      <th>min</th>\n",
              "      <td>335.000000</td>\n",
              "      <td>55.000000</td>\n",
              "      <td>36.000000</td>\n",
              "      <td>2.000000</td>\n",
              "      <td>1.000000</td>\n",
              "      <td>0.000000</td>\n",
              "      <td>0.000000</td>\n",
              "      <td>0.000000</td>\n",
              "      <td>0.000000</td>\n",
              "      <td>0.000000</td>\n",
              "    </tr>\n",
              "    <tr>\n",
              "      <th>25%</th>\n",
              "      <td>899.100000</td>\n",
              "      <td>90.500000</td>\n",
              "      <td>71.500000</td>\n",
              "      <td>3.000000</td>\n",
              "      <td>2.000000</td>\n",
              "      <td>0.000000</td>\n",
              "      <td>0.000000</td>\n",
              "      <td>0.000000</td>\n",
              "      <td>0.000000</td>\n",
              "      <td>1300.000000</td>\n",
              "    </tr>\n",
              "    <tr>\n",
              "      <th>50%</th>\n",
              "      <td>1800.000000</td>\n",
              "      <td>128.000000</td>\n",
              "      <td>128.000000</td>\n",
              "      <td>3.000000</td>\n",
              "      <td>2.000000</td>\n",
              "      <td>0.000000</td>\n",
              "      <td>0.000000</td>\n",
              "      <td>1.000000</td>\n",
              "      <td>0.000000</td>\n",
              "      <td>2200.000000</td>\n",
              "    </tr>\n",
              "    <tr>\n",
              "      <th>75%</th>\n",
              "      <td>3500.000000</td>\n",
              "      <td>200.000000</td>\n",
              "      <td>207.000000</td>\n",
              "      <td>4.000000</td>\n",
              "      <td>3.000000</td>\n",
              "      <td>1.000000</td>\n",
              "      <td>0.000000</td>\n",
              "      <td>1.000000</td>\n",
              "      <td>0.000000</td>\n",
              "      <td>2200.000000</td>\n",
              "    </tr>\n",
              "    <tr>\n",
              "      <th>max</th>\n",
              "      <td>12598.000000</td>\n",
              "      <td>609.000000</td>\n",
              "      <td>600.000000</td>\n",
              "      <td>10.000000</td>\n",
              "      <td>6.000000</td>\n",
              "      <td>3.000000</td>\n",
              "      <td>3.000000</td>\n",
              "      <td>2.000000</td>\n",
              "      <td>2.000000</td>\n",
              "      <td>5500.000000</td>\n",
              "    </tr>\n",
              "  </tbody>\n",
              "</table>\n",
              "</div>"
            ],
            "text/plain": [
              "         harga_juta          LT          LB  ...    carport     garasi      listrik\n",
              "count     99.000000   99.000000   99.000000  ...  99.000000  99.000000    99.000000\n",
              "mean    2471.852525  161.474747  159.484848  ...   0.545455   0.191919  2337.373737\n",
              "std     2272.814407  105.439251  114.944651  ...   0.520454   0.420805  1263.101613\n",
              "min      335.000000   55.000000   36.000000  ...   0.000000   0.000000     0.000000\n",
              "25%      899.100000   90.500000   71.500000  ...   0.000000   0.000000  1300.000000\n",
              "50%     1800.000000  128.000000  128.000000  ...   1.000000   0.000000  2200.000000\n",
              "75%     3500.000000  200.000000  207.000000  ...   1.000000   0.000000  2200.000000\n",
              "max    12598.000000  609.000000  600.000000  ...   2.000000   2.000000  5500.000000\n",
              "\n",
              "[8 rows x 10 columns]"
            ]
          },
          "metadata": {
            "tags": []
          },
          "execution_count": 61
        }
      ]
    },
    {
      "cell_type": "code",
      "metadata": {
        "colab": {
          "base_uri": "https://localhost:8080/",
          "height": 393
        },
        "id": "Asd5lzjpd2ER",
        "outputId": "3518d642-1170-46fb-e321-75efe0805bc5"
      },
      "source": [
        "numerical = rumah2.select_dtypes(include = ['int64','float64']).columns\n",
        "\n",
        "rumah2[numerical].hist(figsize=(15, 6), layout=(2,5));"
      ],
      "execution_count": 47,
      "outputs": [
        {
          "output_type": "display_data",
          "data": {
            "image/png": "[encoded data removed]",
            "text/plain": [
              "<Figure size 1080x432 with 10 Axes>"
            ]
          },
          "metadata": {
            "tags": []
          }
        }
      ]
    },
    {
      "cell_type": "code",
      "metadata": {
        "colab": {
          "base_uri": "https://localhost:8080/",
          "height": 382
        },
        "id": "WRpZFU_Sd2ES",
        "outputId": "f675cd09-84df-48dd-e86a-d626eab3f2ff"
      },
      "source": [
        "p= sns.catplot(x=\"KT\", y=\"harga_juta\", data=rumah2)"
      ],
      "execution_count": 48,
      "outputs": [
        {
          "output_type": "display_data",
          "data": {
            "image/png": "[encoded data removed]",
            "text/plain": [
              "<Figure size 360x360 with 1 Axes>"
            ]
          },
          "metadata": {
            "tags": []
          }
        }
      ]
    },
    {
      "cell_type": "code",
      "metadata": {
        "colab": {
          "base_uri": "https://localhost:8080/",
          "height": 382
        },
        "id": "m94ebpdFd2ES",
        "outputId": "6ae58669-a102-412f-a8b4-0088b342290a"
      },
      "source": [
        "p = sns.catplot(x=\"surat\", y=\"harga_juta\", kind=\"box\",  data=rumah2)"
      ],
      "execution_count": 49,
      "outputs": [
        {
          "output_type": "display_data",
          "data": {
            "image/png": "[encoded data removed]",
            "text/plain": [
              "<Figure size 360x360 with 1 Axes>"
            ]
          },
          "metadata": {
            "tags": []
          }
        }
      ]
    },
    {
      "cell_type": "code",
      "metadata": {
        "colab": {
          "base_uri": "https://localhost:8080/",
          "height": 394
        },
        "id": "Tv21UCfGd2ET",
        "outputId": "3f513d81-a637-45ae-a238-fcbc7cac86c1"
      },
      "source": [
        "plt.figure(figsize=(8,6)) # https://matplotlib.org/api/_as_gen/matplotlib.pyplot.figure.html#matplotlib.pyplot.figure\n",
        "p = sns.countplot(x=\"KT\", data=rumah2)"
      ],
      "execution_count": 50,
      "outputs": [
        {
          "output_type": "display_data",
          "data": {
            "image/png": "[encoded data removed]",
            "text/plain": [
              "<Figure size 576x432 with 1 Axes>"
            ]
          },
          "metadata": {
            "tags": []
          }
        }
      ]
    },
    {
      "cell_type": "code",
      "metadata": {
        "id": "ZnQLdpjmd2ET"
      },
      "source": [
        "def groupedbarplot(df, width=0.8, annotate=\"values\", ax=None, **kw):\n",
        "    ax = ax or plt.gca()\n",
        "    n = len(df.columns)\n",
        "    w = 1./n\n",
        "    pos = (np.linspace(w/2., 1-w/2., n)-0.5)*width\n",
        "    w *= width\n",
        "    bars = []\n",
        "    for col, x in zip(df.columns, pos):\n",
        "        bars.append(ax.bar(np.arange(len(df))+x, df[col].values, width=w, **kw))\n",
        "        # matplotlib.pyplot.bar(x, height, width=0.8, bottom=None, *, align='center', data=None, **kwargs)\n",
        "        for val, xi in zip(df[col].values, np.arange(len(df))+x):\n",
        "            if annotate:\n",
        "                txt = val if annotate == \"values\" else col\n",
        "                ax.annotate(txt, xy=(xi, val), xytext=(0,2), \n",
        "                            textcoords=\"offset points\",\n",
        "                            ha=\"center\", va=\"bottom\")\n",
        "    ax.set_xticks(np.arange(len(df)))\n",
        "    ax.set_xticklabels(df.index)\n",
        "    return bars"
      ],
      "execution_count": 51,
      "outputs": []
    },
    {
      "cell_type": "code",
      "metadata": {
        "colab": {
          "base_uri": "https://localhost:8080/",
          "height": 485
        },
        "id": "yYNlT8EOd2EU",
        "outputId": "ab62cfdf-9fbd-4bbb-e988-dcdb4b22be9b"
      },
      "source": [
        "counts = rumah2.groupby([\"KT\", \"surat\"]).size().unstack()\n",
        "plt.figure(figsize=(12,8))\n",
        "groupedbarplot(counts)\n",
        "plt.show()"
      ],
      "execution_count": 52,
      "outputs": [
        {
          "output_type": "display_data",
          "data": {
            "image/png": "[encoded data removed]",
            "text/plain": [
              "<Figure size 864x576 with 1 Axes>"
            ]
          },
          "metadata": {
            "tags": []
          }
        }
      ]
    },
    {
      "cell_type": "code",
      "metadata": {
        "colab": {
          "base_uri": "https://localhost:8080/",
          "height": 173
        },
        "id": "Z0EtC-Ggd2EU",
        "outputId": "3d078bf5-a8c4-4d86-f3ec-d80f773ff19d"
      },
      "source": [
        "rumah2.groupby([\"surat\", \"KT\"]).size().unstack()"
      ],
      "execution_count": 53,
      "outputs": [
        {
          "output_type": "execute_result",
          "data": {
            "text/html": [
              "<div>\n",
              "<style scoped>\n",
              "    .dataframe tbody tr th:only-of-type {\n",
              "        vertical-align: middle;\n",
              "    }\n",
              "\n",
              "    .dataframe tbody tr th {\n",
              "        vertical-align: top;\n",
              "    }\n",
              "\n",
              "    .dataframe thead th {\n",
              "        text-align: right;\n",
              "    }\n",
              "</style>\n",
              "<table border=\"1\" class=\"dataframe\">\n",
              "  <thead>\n",
              "    <tr style=\"text-align: right;\">\n",
              "      <th>KT</th>\n",
              "      <th>2</th>\n",
              "      <th>3</th>\n",
              "      <th>4</th>\n",
              "      <th>5</th>\n",
              "      <th>6</th>\n",
              "      <th>10</th>\n",
              "    </tr>\n",
              "    <tr>\n",
              "      <th>surat</th>\n",
              "      <th></th>\n",
              "      <th></th>\n",
              "      <th></th>\n",
              "      <th></th>\n",
              "      <th></th>\n",
              "      <th></th>\n",
              "    </tr>\n",
              "  </thead>\n",
              "  <tbody>\n",
              "    <tr>\n",
              "      <th>HGB</th>\n",
              "      <td>2.0</td>\n",
              "      <td>5.0</td>\n",
              "      <td>3.0</td>\n",
              "      <td>6.0</td>\n",
              "      <td>NaN</td>\n",
              "      <td>NaN</td>\n",
              "    </tr>\n",
              "    <tr>\n",
              "      <th>SHM</th>\n",
              "      <td>20.0</td>\n",
              "      <td>29.0</td>\n",
              "      <td>22.0</td>\n",
              "      <td>6.0</td>\n",
              "      <td>1.0</td>\n",
              "      <td>1.0</td>\n",
              "    </tr>\n",
              "    <tr>\n",
              "      <th>none</th>\n",
              "      <td>2.0</td>\n",
              "      <td>1.0</td>\n",
              "      <td>1.0</td>\n",
              "      <td>NaN</td>\n",
              "      <td>NaN</td>\n",
              "      <td>NaN</td>\n",
              "    </tr>\n",
              "  </tbody>\n",
              "</table>\n",
              "</div>"
            ],
            "text/plain": [
              "KT       2     3     4    5    6    10\n",
              "surat                                 \n",
              "HGB     2.0   5.0   3.0  6.0  NaN  NaN\n",
              "SHM    20.0  29.0  22.0  6.0  1.0  1.0\n",
              "none    2.0   1.0   1.0  NaN  NaN  NaN"
            ]
          },
          "metadata": {
            "tags": []
          },
          "execution_count": 53
        }
      ]
    },
    {
      "cell_type": "code",
      "metadata": {
        "colab": {
          "base_uri": "https://localhost:8080/",
          "height": 285
        },
        "id": "HqMsFyyid2EV",
        "outputId": "c7f45d87-d76d-4676-8030-bcd1a1badf1a"
      },
      "source": [
        "ax = sns.countplot(y = 'KT', hue = 'surat', palette = 'muted', data=rumah2)"
      ],
      "execution_count": 54,
      "outputs": [
        {
          "output_type": "display_data",
          "data": {
            "image/png": "[encoded data removed]",
            "text/plain": [
              "<Figure size 432x288 with 1 Axes>"
            ]
          },
          "metadata": {
            "tags": []
          }
        }
      ]
    },
    {
      "cell_type": "code",
      "metadata": {
        "colab": {
          "base_uri": "https://localhost:8080/",
          "height": 357
        },
        "id": "Oo3L73u6d2EV",
        "outputId": "826fe34a-9b4b-477c-e71c-2c14784377ab"
      },
      "source": [
        "CT = pd.crosstab(index=rumah2[\"surat\"], columns=rumah2[\"KT\"])\n",
        "p = CT.plot(kind=\"bar\", figsize=(5,5), stacked=True)"
      ],
      "execution_count": 55,
      "outputs": [
        {
          "output_type": "display_data",
          "data": {
            "image/png": "[encoded data removed]",
            "text/plain": [
              "<Figure size 360x360 with 1 Axes>"
            ]
          },
          "metadata": {
            "tags": []
          }
        }
      ]
    },
    {
      "cell_type": "code",
      "metadata": {
        "colab": {
          "base_uri": "https://localhost:8080/",
          "height": 285
        },
        "id": "Wjbu9m0yzudN",
        "outputId": "f46be44f-a047-4d96-ec43-49521488b207"
      },
      "source": [
        "p=sns.scatterplot(x=rumah2['LT'], y=rumah2['harga_juta'], hue=rumah2['LB'])"
      ],
      "execution_count": 57,
      "outputs": [
        {
          "output_type": "display_data",
          "data": {
            "image/png": "[encoded data removed]",
            "text/plain": [
              "<Figure size 432x288 with 1 Axes>"
            ]
          },
          "metadata": {
            "tags": []
          }
        }
      ]
    },
    {
      "cell_type": "markdown",
      "metadata": {
        "id": "Rw5EkS5F8JcP"
      },
      "source": [
        "\n",
        "Berdasarkan hasil scatter plot dapat dilihat bahwa terdapat hubungan posistif antara variabel LT dengan harga_juta karena titik-titik plot data membentuk pola garis lurus dari kiri bawah naik ke kanan atas"
      ]
    },
    {
      "cell_type": "code",
      "metadata": {
        "colab": {
          "base_uri": "https://localhost:8080/",
          "height": 359
        },
        "id": "c1gZc3NK0vFe",
        "outputId": "af5fd30d-88bb-4c25-de86-7a0f3696f45f"
      },
      "source": [
        "rumah2.corr()"
      ],
      "execution_count": 58,
      "outputs": [
        {
          "output_type": "execute_result",
          "data": {
            "text/html": [
              "<div>\n",
              "<style scoped>\n",
              "    .dataframe tbody tr th:only-of-type {\n",
              "        vertical-align: middle;\n",
              "    }\n",
              "\n",
              "    .dataframe tbody tr th {\n",
              "        vertical-align: top;\n",
              "    }\n",
              "\n",
              "    .dataframe thead th {\n",
              "        text-align: right;\n",
              "    }\n",
              "</style>\n",
              "<table border=\"1\" class=\"dataframe\">\n",
              "  <thead>\n",
              "    <tr style=\"text-align: right;\">\n",
              "      <th></th>\n",
              "      <th>harga_juta</th>\n",
              "      <th>LT</th>\n",
              "      <th>LB</th>\n",
              "      <th>KT</th>\n",
              "      <th>KM</th>\n",
              "      <th>KTP</th>\n",
              "      <th>KMP</th>\n",
              "      <th>carport</th>\n",
              "      <th>garasi</th>\n",
              "      <th>listrik</th>\n",
              "    </tr>\n",
              "  </thead>\n",
              "  <tbody>\n",
              "    <tr>\n",
              "      <th>harga_juta</th>\n",
              "      <td>1.000000</td>\n",
              "      <td>0.631165</td>\n",
              "      <td>0.545681</td>\n",
              "      <td>0.556148</td>\n",
              "      <td>0.588170</td>\n",
              "      <td>0.229068</td>\n",
              "      <td>0.190937</td>\n",
              "      <td>0.216810</td>\n",
              "      <td>0.181693</td>\n",
              "      <td>0.642870</td>\n",
              "    </tr>\n",
              "    <tr>\n",
              "      <th>LT</th>\n",
              "      <td>0.631165</td>\n",
              "      <td>1.000000</td>\n",
              "      <td>0.739086</td>\n",
              "      <td>0.469138</td>\n",
              "      <td>0.394111</td>\n",
              "      <td>0.235936</td>\n",
              "      <td>0.217622</td>\n",
              "      <td>-0.015924</td>\n",
              "      <td>0.183290</td>\n",
              "      <td>0.459323</td>\n",
              "    </tr>\n",
              "    <tr>\n",
              "      <th>LB</th>\n",
              "      <td>0.545681</td>\n",
              "      <td>0.739086</td>\n",
              "      <td>1.000000</td>\n",
              "      <td>0.513754</td>\n",
              "      <td>0.479943</td>\n",
              "      <td>0.308601</td>\n",
              "      <td>0.228131</td>\n",
              "      <td>0.073655</td>\n",
              "      <td>0.318086</td>\n",
              "      <td>0.491373</td>\n",
              "    </tr>\n",
              "    <tr>\n",
              "      <th>KT</th>\n",
              "      <td>0.556148</td>\n",
              "      <td>0.469138</td>\n",
              "      <td>0.513754</td>\n",
              "      <td>1.000000</td>\n",
              "      <td>0.838030</td>\n",
              "      <td>0.074235</td>\n",
              "      <td>0.092459</td>\n",
              "      <td>0.249442</td>\n",
              "      <td>0.122309</td>\n",
              "      <td>0.431194</td>\n",
              "    </tr>\n",
              "    <tr>\n",
              "      <th>KM</th>\n",
              "      <td>0.588170</td>\n",
              "      <td>0.394111</td>\n",
              "      <td>0.479943</td>\n",
              "      <td>0.838030</td>\n",
              "      <td>1.000000</td>\n",
              "      <td>0.136061</td>\n",
              "      <td>0.163058</td>\n",
              "      <td>0.262382</td>\n",
              "      <td>0.137790</td>\n",
              "      <td>0.442834</td>\n",
              "    </tr>\n",
              "    <tr>\n",
              "      <th>KTP</th>\n",
              "      <td>0.229068</td>\n",
              "      <td>0.235936</td>\n",
              "      <td>0.308601</td>\n",
              "      <td>0.074235</td>\n",
              "      <td>0.136061</td>\n",
              "      <td>1.000000</td>\n",
              "      <td>0.907568</td>\n",
              "      <td>-0.079970</td>\n",
              "      <td>0.135681</td>\n",
              "      <td>0.302222</td>\n",
              "    </tr>\n",
              "    <tr>\n",
              "      <th>KMP</th>\n",
              "      <td>0.190937</td>\n",
              "      <td>0.217622</td>\n",
              "      <td>0.228131</td>\n",
              "      <td>0.092459</td>\n",
              "      <td>0.163058</td>\n",
              "      <td>0.907568</td>\n",
              "      <td>1.000000</td>\n",
              "      <td>-0.084405</td>\n",
              "      <td>0.144023</td>\n",
              "      <td>0.210861</td>\n",
              "    </tr>\n",
              "    <tr>\n",
              "      <th>carport</th>\n",
              "      <td>0.216810</td>\n",
              "      <td>-0.015924</td>\n",
              "      <td>0.073655</td>\n",
              "      <td>0.249442</td>\n",
              "      <td>0.262382</td>\n",
              "      <td>-0.079970</td>\n",
              "      <td>-0.084405</td>\n",
              "      <td>1.000000</td>\n",
              "      <td>0.076241</td>\n",
              "      <td>0.097508</td>\n",
              "    </tr>\n",
              "    <tr>\n",
              "      <th>garasi</th>\n",
              "      <td>0.181693</td>\n",
              "      <td>0.183290</td>\n",
              "      <td>0.318086</td>\n",
              "      <td>0.122309</td>\n",
              "      <td>0.137790</td>\n",
              "      <td>0.135681</td>\n",
              "      <td>0.144023</td>\n",
              "      <td>0.076241</td>\n",
              "      <td>1.000000</td>\n",
              "      <td>0.095796</td>\n",
              "    </tr>\n",
              "    <tr>\n",
              "      <th>listrik</th>\n",
              "      <td>0.642870</td>\n",
              "      <td>0.459323</td>\n",
              "      <td>0.491373</td>\n",
              "      <td>0.431194</td>\n",
              "      <td>0.442834</td>\n",
              "      <td>0.302222</td>\n",
              "      <td>0.210861</td>\n",
              "      <td>0.097508</td>\n",
              "      <td>0.095796</td>\n",
              "      <td>1.000000</td>\n",
              "    </tr>\n",
              "  </tbody>\n",
              "</table>\n",
              "</div>"
            ],
            "text/plain": [
              "            harga_juta        LT        LB  ...   carport    garasi   listrik\n",
              "harga_juta    1.000000  0.631165  0.545681  ...  0.216810  0.181693  0.642870\n",
              "LT            0.631165  1.000000  0.739086  ... -0.015924  0.183290  0.459323\n",
              "LB            0.545681  0.739086  1.000000  ...  0.073655  0.318086  0.491373\n",
              "KT            0.556148  0.469138  0.513754  ...  0.249442  0.122309  0.431194\n",
              "KM            0.588170  0.394111  0.479943  ...  0.262382  0.137790  0.442834\n",
              "KTP           0.229068  0.235936  0.308601  ... -0.079970  0.135681  0.302222\n",
              "KMP           0.190937  0.217622  0.228131  ... -0.084405  0.144023  0.210861\n",
              "carport       0.216810 -0.015924  0.073655  ...  1.000000  0.076241  0.097508\n",
              "garasi        0.181693  0.183290  0.318086  ...  0.076241  1.000000  0.095796\n",
              "listrik       0.642870  0.459323  0.491373  ...  0.097508  0.095796  1.000000\n",
              "\n",
              "[10 rows x 10 columns]"
            ]
          },
          "metadata": {
            "tags": []
          },
          "execution_count": 58
        }
      ]
    },
    {
      "cell_type": "code",
      "metadata": {
        "colab": {
          "base_uri": "https://localhost:8080/",
          "height": 595
        },
        "id": "amsSmgue1D8I",
        "outputId": "56da2e85-d3d8-4c48-b9d6-7236140b92c9"
      },
      "source": [
        "corr2 = rumah2.corr() # We already examined SalePrice correlations\n",
        "plt.figure(figsize=(12, 10))\n",
        "sns.heatmap(corr2[(corr2 >= 0.5) | (corr2 <= -0.4)], \n",
        "            cmap='viridis', vmax=1.0, vmin=-1.0, linewidths=0.1,\n",
        "            annot=True, annot_kws={\"size\": 14}, square=True);"
      ],
      "execution_count": 59,
      "outputs": [
        {
          "output_type": "display_data",
          "data": {
            "image/png": "[encoded data removed]",
            "text/plain": [
              "<Figure size 864x720 with 2 Axes>"
            ]
          },
          "metadata": {
            "tags": []
          }
        }
      ]
    },
    {
      "cell_type": "markdown",
      "metadata": {
        "id": "Uf1yZNw41P8t"
      },
      "source": [
        "Kesimpulan:\n",
        "Dari 100 data iklan pejualan rumah di Makassar ditemukan 1 outlier, kita remove sehingga tersisa 99 data yang diobservasi. Lalu menghapus kolom 'no' karena data terlalu beragam. Untuk melihat kergaman data, kami melakukan Statistika deskriptif. Kami ingin mengetahui hubungan antara variabel 'harga_juta' dan 'LT', berdasarkan hasil visualisasi dengan scatterplot diperoleh variabel 'harga_juta' dan variabel 'LT' memiliki hubungan yang positif, artinya semakin besar nilai luas tanah maka harga jual rumah juga semakin besar jika diasumsikan luas bangunan, kamar tidur, kamar mandi, kamar tidur pembantu, kamar mandi pembantu, carport, garasi, dan listrik sama.Dilihat dari tabel korelasi diperoleh bahwa variabel 'listrik' memiliki hubungan korelasi paling besar dengan harga rumah."
      ]
    }
  ]
}